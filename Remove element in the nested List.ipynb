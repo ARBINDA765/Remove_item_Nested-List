{
 "cells": [
  {
   "cell_type": "code",
   "execution_count": 10,
   "metadata": {},
   "outputs": [
    {
     "name": "stdout",
     "output_type": "stream",
     "text": [
      "[[1, 111], [9, 99, 999, 9999]]\n"
     ]
    }
   ],
   "source": [
    "#Remove the all the occurance of an element in the nested list\n",
    "\n",
    "p=[[1,111,1111],[9,99,999,9999,1111]]\n",
    "u=[[ i for i in elt if i != 1111] for elt in p] \n",
    "print(u)"
   ]
  },
  {
   "cell_type": "code",
   "execution_count": 5,
   "metadata": {},
   "outputs": [],
   "source": [
    "def remove_nested(L, x):\n",
    "    for S in L:\n",
    "        try:\n",
    "            S.remove(x)\n",
    "        except ValueError:\n",
    "            pass\n",
    "        else:\n",
    "            break  # Value was found and removed\n",
    "    else:\n",
    "        raise ValueError(\"remove_nested(L, x): x not in nested list\")\n"
   ]
  },
  {
   "cell_type": "code",
   "execution_count": 3,
   "metadata": {},
   "outputs": [],
   "source": [
    "L=[ ['Extend', -9.7], [100, 1000, 19, 20,10,19,34,56,9999,9]]"
   ]
  },
  {
   "cell_type": "code",
   "execution_count": 4,
   "metadata": {},
   "outputs": [
    {
     "name": "stdout",
     "output_type": "stream",
     "text": [
      "[['Extend', -9.7], [100, 1000, 19, 20, 10, 19, 34, 56, 9999]]\n"
     ]
    }
   ],
   "source": [
    "remove_nested(L, 9)\n",
    "print(L)"
   ]
  },
  {
   "cell_type": "code",
   "execution_count": null,
   "metadata": {},
   "outputs": [],
   "source": []
  }
 ],
 "metadata": {
  "kernelspec": {
   "display_name": "Python 3",
   "language": "python",
   "name": "python3"
  },
  "language_info": {
   "codemirror_mode": {
    "name": "ipython",
    "version": 3
   },
   "file_extension": ".py",
   "mimetype": "text/x-python",
   "name": "python",
   "nbconvert_exporter": "python",
   "pygments_lexer": "ipython3",
   "version": "3.7.9"
  }
 },
 "nbformat": 4,
 "nbformat_minor": 4
}
